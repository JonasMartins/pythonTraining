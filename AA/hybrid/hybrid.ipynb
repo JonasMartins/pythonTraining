{
 "cells": [
  {
   "cell_type": "code",
   "execution_count": null,
   "metadata": {},
   "outputs": [],
   "source": [
    "# 1. Content-based recommender \n",
    "# 2. Collaborative-based recommender \n",
    "# Classificação: Parallel - Weighted (Heterogenous data type) \n",
    "# dataset_1: https://grouplens.org/datasets/movielens/100k/ \n",
    "# dataset_2: https://www.kaggle.com/rounakbanik/the-movies-dataset/data#movies_meta data.csv"
   ]
  },
  {
   "cell_type": "code",
   "execution_count": 1,
   "metadata": {},
   "outputs": [],
   "source": [
    "import pandas as pd \n",
    "import numpy as np"
   ]
  },
  {
   "cell_type": "markdown",
   "metadata": {},
   "source": [
    "### Selecionando e separando as Avaliações"
   ]
  },
  {
   "cell_type": "code",
   "execution_count": 8,
   "metadata": {},
   "outputs": [
    {
     "data": {
      "text/html": [
       "<div>\n",
       "<style scoped>\n",
       "    .dataframe tbody tr th:only-of-type {\n",
       "        vertical-align: middle;\n",
       "    }\n",
       "\n",
       "    .dataframe tbody tr th {\n",
       "        vertical-align: top;\n",
       "    }\n",
       "\n",
       "    .dataframe thead th {\n",
       "        text-align: right;\n",
       "    }\n",
       "</style>\n",
       "<table border=\"1\" class=\"dataframe\">\n",
       "  <thead>\n",
       "    <tr style=\"text-align: right;\">\n",
       "      <th></th>\n",
       "      <th>user_id</th>\n",
       "      <th>movie_id</th>\n",
       "      <th>rating</th>\n",
       "    </tr>\n",
       "  </thead>\n",
       "  <tbody>\n",
       "    <tr>\n",
       "      <th>0</th>\n",
       "      <td>196</td>\n",
       "      <td>242</td>\n",
       "      <td>3</td>\n",
       "    </tr>\n",
       "    <tr>\n",
       "      <th>1</th>\n",
       "      <td>186</td>\n",
       "      <td>302</td>\n",
       "      <td>3</td>\n",
       "    </tr>\n",
       "    <tr>\n",
       "      <th>2</th>\n",
       "      <td>22</td>\n",
       "      <td>377</td>\n",
       "      <td>1</td>\n",
       "    </tr>\n",
       "    <tr>\n",
       "      <th>3</th>\n",
       "      <td>244</td>\n",
       "      <td>51</td>\n",
       "      <td>2</td>\n",
       "    </tr>\n",
       "    <tr>\n",
       "      <th>4</th>\n",
       "      <td>166</td>\n",
       "      <td>346</td>\n",
       "      <td>1</td>\n",
       "    </tr>\n",
       "  </tbody>\n",
       "</table>\n",
       "</div>"
      ],
      "text/plain": [
       "   user_id  movie_id  rating\n",
       "0      196       242       3\n",
       "1      186       302       3\n",
       "2       22       377       1\n",
       "3      244        51       2\n",
       "4      166       346       1"
      ]
     },
     "execution_count": 8,
     "metadata": {},
     "output_type": "execute_result"
    }
   ],
   "source": [
    "# Usado para o Collaborative-recommender, e para filtrar os filmes a serem classificados \n",
    "# ao todo temos 100.000 avaliações de 943 usuários em 1682 filmes \n",
    "# cada usuário avaliou pelo menos 20 filmes \n",
    "ratingsColumn = ['user_id', 'movie_id', 'rating', 'timestamp']\n",
    "\n",
    "ratings = pd.read_csv('u.data', sep='\\t', names=ratingsColumn, encoding='latin-1')\n",
    "\n",
    "# Removendo a Coluna timestamp\n",
    "ratings = ratings.drop('timestamp', axis=1)\n",
    "ratings.head(5)"
   ]
  },
  {
   "cell_type": "markdown",
   "metadata": {},
   "source": [
    "### Trabalhando com o segundo dataset, filtrando os filmes que tem alguma avaliação"
   ]
  },
  {
   "cell_type": "code",
   "execution_count": 9,
   "metadata": {},
   "outputs": [
    {
     "data": {
      "text/html": [
       "<div>\n",
       "<style scoped>\n",
       "    .dataframe tbody tr th:only-of-type {\n",
       "        vertical-align: middle;\n",
       "    }\n",
       "\n",
       "    .dataframe tbody tr th {\n",
       "        vertical-align: top;\n",
       "    }\n",
       "\n",
       "    .dataframe thead th {\n",
       "        text-align: right;\n",
       "    }\n",
       "</style>\n",
       "<table border=\"1\" class=\"dataframe\">\n",
       "  <thead>\n",
       "    <tr style=\"text-align: right;\">\n",
       "      <th></th>\n",
       "      <th>id</th>\n",
       "      <th>title</th>\n",
       "      <th>overview</th>\n",
       "      <th>vote_count</th>\n",
       "      <th>vote_average</th>\n",
       "    </tr>\n",
       "  </thead>\n",
       "  <tbody>\n",
       "    <tr>\n",
       "      <th>0</th>\n",
       "      <td>862</td>\n",
       "      <td>Toy Story</td>\n",
       "      <td>Led by Woody, Andy's toys live happily in his ...</td>\n",
       "      <td>5415.0</td>\n",
       "      <td>7.7</td>\n",
       "    </tr>\n",
       "    <tr>\n",
       "      <th>1</th>\n",
       "      <td>8844</td>\n",
       "      <td>Jumanji</td>\n",
       "      <td>When siblings Judy and Peter discover an encha...</td>\n",
       "      <td>2413.0</td>\n",
       "      <td>6.9</td>\n",
       "    </tr>\n",
       "    <tr>\n",
       "      <th>2</th>\n",
       "      <td>15602</td>\n",
       "      <td>Grumpier Old Men</td>\n",
       "      <td>A family wedding reignites the ancient feud be...</td>\n",
       "      <td>92.0</td>\n",
       "      <td>6.5</td>\n",
       "    </tr>\n",
       "    <tr>\n",
       "      <th>3</th>\n",
       "      <td>31357</td>\n",
       "      <td>Waiting to Exhale</td>\n",
       "      <td>Cheated on, mistreated and stepped on, the wom...</td>\n",
       "      <td>34.0</td>\n",
       "      <td>6.1</td>\n",
       "    </tr>\n",
       "    <tr>\n",
       "      <th>4</th>\n",
       "      <td>11862</td>\n",
       "      <td>Father of the Bride Part II</td>\n",
       "      <td>Just when George Banks has recovered from his ...</td>\n",
       "      <td>173.0</td>\n",
       "      <td>5.7</td>\n",
       "    </tr>\n",
       "  </tbody>\n",
       "</table>\n",
       "</div>"
      ],
      "text/plain": [
       "      id                        title  \\\n",
       "0    862                    Toy Story   \n",
       "1   8844                      Jumanji   \n",
       "2  15602             Grumpier Old Men   \n",
       "3  31357            Waiting to Exhale   \n",
       "4  11862  Father of the Bride Part II   \n",
       "\n",
       "                                            overview  vote_count  vote_average  \n",
       "0  Led by Woody, Andy's toys live happily in his ...      5415.0           7.7  \n",
       "1  When siblings Judy and Peter discover an encha...      2413.0           6.9  \n",
       "2  A family wedding reignites the ancient feud be...        92.0           6.5  \n",
       "3  Cheated on, mistreated and stepped on, the wom...        34.0           6.1  \n",
       "4  Just when George Banks has recovered from his ...       173.0           5.7  "
      ]
     },
     "execution_count": 9,
     "metadata": {},
     "output_type": "execute_result"
    }
   ],
   "source": [
    "overview = pd.read_csv(\"movies_metadata.csv\", low_memory=False)\n",
    "# selecionando os campos mais 'relevantes' \n",
    "overview = overview[['id','title', 'overview', 'vote_count','vote_average']]\n",
    "overview.head(5)"
   ]
  },
  {
   "cell_type": "code",
   "execution_count": 12,
   "metadata": {},
   "outputs": [
    {
     "data": {
      "text/plain": [
       "(1068, 5)"
      ]
     },
     "execution_count": 12,
     "metadata": {},
     "output_type": "execute_result"
    }
   ],
   "source": [
    "# Criamos ums lista de todos os ids dos filmes que possuem avaliação \n",
    "movies_rated_index = ratings[\"movie_id\"].tolist()\n",
    "\n",
    "# Convertendo esse valor para string\n",
    "movies_rated_index = [str(i) for i in movies_rated_index]\n",
    "\n",
    "# Retonamos uma cópia do dataset, somente com os filmes que possuem avaliação \n",
    "# Fazendo um Join nos dois datasets para ter o overview apenas dos filmes que tem avaliações\n",
    "overview = overview.copy().loc[overview['id'].isin(movies_rated_index)] \n",
    "overview.shape \n",
    "# agora temos 1068 filmes no dataset\n"
   ]
  },
  {
   "cell_type": "markdown",
   "metadata": {},
   "source": [
    "### Criando matriz com frequência de palavras *(Biblioteca Externa)* "
   ]
  },
  {
   "cell_type": "code",
   "execution_count": 19,
   "metadata": {},
   "outputs": [
    {
     "data": {
      "text/plain": [
       "(1068, 9422)"
      ]
     },
     "execution_count": 19,
     "metadata": {},
     "output_type": "execute_result"
    }
   ],
   "source": [
    "from sklearn.feature_extraction.text import TfidfVectorizer\n",
    "\n",
    "\"\"\"\n",
    "stopwords Definition\n",
    "Stop words are words like “and”, “the”, “him”, which are presumed to be uninformative \n",
    "in representing the content of a text, and which may be removed to avoid them being construed \n",
    "as signal for prediction. Sometimes, however, similar words are useful for prediction, such \n",
    "as in classifying writing style or personality.\n",
    "\n",
    "\"\"\"\n",
    "tfidf = TfidfVectorizer(stop_words='english')\n",
    "    \n",
    "# Constrói a matriz de frequência de palavras\n",
    "# Learn vocabulary and idf, return term-document matrix.\n",
    "\n",
    "# A document-term matrix or term-document matrix is a mathematical matrix that describes the frequency of \n",
    "# terms that occur in a collection of documents. In a document-term matrix, rows correspond to documents \n",
    "# in the collection and columns correspond to terms. There are various schemes for determining the value \n",
    "# that each entry in the matrix should take. One such scheme is tf-idf. They are useful in the field of \n",
    "# natural language processing.\n",
    "\n",
    "tfidf_matrix = tfidf.fit_transform(overview['overview']) \n",
    "\n",
    "# Temos 9422 palavras que descrevem 1068 filmes \n",
    "# Linhas = filmes \n",
    "# Colunas = palavras \n",
    "# Então temos a quantidade de cada palavras, em cada overview de cada filme \n",
    "# Saída: tfidf_matrix.__class__.__name__ = 'csr_matrix'\n",
    "\n",
    "tfidf_matrix.shape"
   ]
  },
  {
   "cell_type": "markdown",
   "metadata": {},
   "source": [
    "### Criando matriz de similaridade *(Biblioteca Externa)* \n"
   ]
  },
  {
   "cell_type": "code",
   "execution_count": 18,
   "metadata": {},
   "outputs": [
    {
     "name": "stdout",
     "output_type": "stream",
     "text": [
      "[[1. 0. 0. ... 0. 0. 0.]\n",
      " [0. 1. 0. ... 0. 0. 0.]\n",
      " [0. 0. 1. ... 0. 0. 0.]\n",
      " ...\n",
      " [0. 0. 0. ... 1. 0. 0.]\n",
      " [0. 0. 0. ... 0. 1. 0.]\n",
      " [0. 0. 0. ... 0. 0. 1.]]\n"
     ]
    }
   ],
   "source": [
    "from sklearn.metrics.pairwise import linear_kernel \n",
    "\n",
    "# Calculando matriz de similaridade\n",
    "# Compute the linear kernel between X and Y.\n",
    "# Mais sobre linear kernel https://scikit-learn.org/stable/modules/metrics.html#linear-kernel\n",
    "# http://crsouza.com/2010/03/17/kernel-functions-for-machine-learning-applications/#linear\n",
    "\"\"\"\n",
    "Uma matriz de similaridade é uma matriz de pontuação (escores) que expressa a similaridade entre dois pontos dados. \n",
    "Matrizes de similaridade estão fortemente relacionadas com os seus homólogos, matrizes de distâncias e matrizes de \n",
    "substituição. Uma matriz de similaridade é o conceito oposto ao da matriz de distâncias. Os elementos de uma matriz \n",
    "de similaridade medem as semelhanças entre pares de objetos - quanto maior similaridade de dois objetos, maior o \n",
    "valor da medida.\n",
    "\n",
    "\"\"\"\n",
    "cosine_sim = linear_kernel(tfidf_matrix, tfidf_matrix) \n",
    "print(cosine_sim)"
   ]
  },
  {
   "cell_type": "markdown",
   "metadata": {},
   "source": [
    "### Determinando indice para cada filme\n"
   ]
  },
  {
   "cell_type": "code",
   "execution_count": 22,
   "metadata": {},
   "outputs": [
    {
     "data": {
      "text/plain": [
       "title\n",
       "Toy Story            0\n",
       "Heat                 5\n",
       "GoldenEye            9\n",
       "Cutthroat Island    14\n",
       "Casino              15\n",
       "dtype: int64"
      ]
     },
     "execution_count": 22,
     "metadata": {},
     "output_type": "execute_result"
    }
   ],
   "source": [
    "# Pegando todos os filmes e separando o título e relacionando com o seu id\n",
    "\n",
    "# Construct a reverse mapping of indices and movie titles, and drop duplicate title s, if any \n",
    "indiceCosine = pd.Series(overview.index, index=overview['title']).drop_duplicates( ) \n",
    "# indiceID = pd.Series(overview.index, index=overview['id']).drop_duplicates() \n",
    "# indiceTitulo = overview[['id', 'title']] #id_para_titulo = indiceTitulo.set_index('id') \n",
    "# titulo_para_id = indiceTitulo.set_index('title')\n",
    "# indiceTitulo.head() \n",
    "# id_para_titulo.head() \n",
    "# print(id_para_titulo.loc['137']['title']) \n",
    "# print(titulo_para_id.loc['Heat']['id']) \n"
   ]
  },
  {
   "cell_type": "markdown",
   "metadata": {},
   "source": [
    "### Aplicando SVD"
   ]
  },
  {
   "cell_type": "code",
   "execution_count": null,
   "metadata": {},
   "outputs": [],
   "source": []
  }
 ],
 "metadata": {
  "kernelspec": {
   "display_name": "Python 3",
   "language": "python",
   "name": "python3"
  },
  "language_info": {
   "codemirror_mode": {
    "name": "ipython",
    "version": 3
   },
   "file_extension": ".py",
   "mimetype": "text/x-python",
   "name": "python",
   "nbconvert_exporter": "python",
   "pygments_lexer": "ipython3",
   "version": "3.6.7"
  }
 },
 "nbformat": 4,
 "nbformat_minor": 2
}
